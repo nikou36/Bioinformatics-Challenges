{
 "cells": [
  {
   "cell_type": "markdown",
   "metadata": {},
   "source": [
    "# Solving BioInformatics challenges"
   ]
  },
  {
   "cell_type": "markdown",
   "metadata": {},
   "source": [
    "This notebook contains my solutions to a variety of bioinformatics challenges found at Rosalind.com (http://rosalind.info/problems/locations/)"
   ]
  },
  {
   "cell_type": "markdown",
   "metadata": {},
   "source": [
    "### 1) Counting DNA Nucleotides (http://rosalind.info/problems/dna/)\n",
    "\n",
    "<b>Problem: </b>\n",
    "A string is simply an ordered collection of symbols selected from some alphabet and formed into a word; the length of a string is the number of symbols that it contains.\n",
    "\n",
    "An example of a length 21 DNA string (whose alphabet contains the symbols 'A', 'C', 'G', and 'T') is \"ATGCTTCAGAAAGGTCTTACG.\"\n",
    "\n",
    "Given: A DNA string s of length at most 1000 nt.\n",
    "\n",
    "Return: Four integers (separated by spaces) counting the respective number of times that the symbols 'A', 'C', 'G', and 'T' occur in s."
   ]
  },
  {
   "cell_type": "code",
   "execution_count": 14,
   "metadata": {},
   "outputs": [],
   "source": [
    "def countDna(seq):\n",
    "    if(not is_dna(seq)):\n",
    "        return None\n",
    "    dna_dict = {'A': 0, 'C':0, 'G':0,'T':0}\n",
    "    seq = seq.upper()\n",
    "    for i in range(len(seq)):\n",
    "        curr = seq[i]\n",
    "        dna_dict[seq[i]] = dna_dict[seq[i]] + 1\n",
    "    return dna_dict\n",
    "\n",
    "#validates a proper DNA sequence\n",
    "def is_dna(seq):\n",
    "    symb = {'A','C','G','T'}\n",
    "    for i in range(len(seq)):\n",
    "        if(seq[i] not in symb):\n",
    "            return False\n",
    "    return True"
   ]
  },
  {
   "cell_type": "code",
   "execution_count": 15,
   "metadata": {},
   "outputs": [
    {
     "name": "stdout",
     "output_type": "stream",
     "text": [
      "{'A': 20, 'C': 12, 'G': 17, 'T': 21}\n",
      "20 12 17 21\n"
     ]
    }
   ],
   "source": [
    "#Testing: \n",
    "seq = 'AGCTTTTCATTCTGACTGCAACGGGCAATATGTCTCTGTGTGGATTAAAAAAAGAGTGTCTGATAGCAGC'\n",
    "count = countDna(seq)\n",
    "correct_ans = '20 12 17 21'\n",
    "print(count)\n",
    "print(correct_ans)\n"
   ]
  },
  {
   "cell_type": "code",
   "execution_count": 16,
   "metadata": {},
   "outputs": [
    {
     "name": "stdout",
     "output_type": "stream",
     "text": [
      "None\n"
     ]
    }
   ],
   "source": [
    "#Error testing:\n",
    "seq = 'AGCTTTTCATTCTGAzTGCAACGGGCAATATGTCTCTGTGTGGATTAAAAAAAGAGTGTCTGATAGCAGC'\n",
    "count = countDna(seq)\n",
    "print(count)"
   ]
  },
  {
   "cell_type": "markdown",
   "metadata": {},
   "source": [
    "Time complexity: O(2n),\n",
    "Space complexity:O(1)"
   ]
  },
  {
   "cell_type": "markdown",
   "metadata": {},
   "source": [
    "### 2) Transcribing DNA into RNA (http://rosalind.info/problems/rna/)\n",
    "<b>Problem:</b>\n",
    "An RNA string is a string formed from the alphabet containing 'A', 'C', 'G', and 'U'.\n",
    "\n",
    "Given a DNA string t corresponding to a coding strand, its transcribed RNA string u is formed by replacing all occurrences of 'T' in t with 'U' in u.\n",
    "\n",
    "Given: A DNA string t having length at most 1000 nt.\n",
    "\n",
    "Return: The transcribed RNA string of t.\n",
    "\n",
    "Example input: GATGGAACTTGACTACGTAAATT\n",
    "\n",
    "Example output: GAUGGAACUUGACUACGUAAAUU"
   ]
  },
  {
   "cell_type": "code",
   "execution_count": 17,
   "metadata": {},
   "outputs": [],
   "source": [
    "def dna_rna_transcribe(seq):\n",
    "    seq = seq.upper()\n",
    "    if(not is_dna(seq)):\n",
    "        return None\n",
    "    \n",
    "    answ = ''\n",
    "    for i in range(len(seq)):\n",
    "        if(seq[i] == 'T'):\n",
    "            answ = answ + 'U'\n",
    "        else:\n",
    "            answ = answ + seq[i]\n",
    "    return answ"
   ]
  },
  {
   "cell_type": "code",
   "execution_count": 19,
   "metadata": {},
   "outputs": [
    {
     "name": "stdout",
     "output_type": "stream",
     "text": [
      "GAUGGAACUUGACUACGUAAAUU\n",
      "True\n"
     ]
    }
   ],
   "source": [
    "#Testing\n",
    "seq = 'GATGGAACTTGACTACGTAAATT'\n",
    "correct = 'GAUGGAACUUGACUACGUAAAUU'\n",
    "answ = dna_rna_transcribe(seq)\n",
    "print(answ)\n",
    "print(answ == correct)"
   ]
  },
  {
   "cell_type": "code",
   "execution_count": 20,
   "metadata": {},
   "outputs": [
    {
     "name": "stdout",
     "output_type": "stream",
     "text": [
      "None\n"
     ]
    }
   ],
   "source": [
    "#Error Testing \n",
    "seq = 'GATGGAACTTGACTACGTAAAdeT'\n",
    "print(dna_rna_transcribe(seq))"
   ]
  },
  {
   "cell_type": "markdown",
   "metadata": {},
   "source": [
    "Time complexity: O(2N), \n",
    "Space Complexity: O(N)"
   ]
  }
 ],
 "metadata": {
  "kernelspec": {
   "display_name": "Python 3",
   "language": "python",
   "name": "python3"
  },
  "language_info": {
   "codemirror_mode": {
    "name": "ipython",
    "version": 3
   },
   "file_extension": ".py",
   "mimetype": "text/x-python",
   "name": "python",
   "nbconvert_exporter": "python",
   "pygments_lexer": "ipython3",
   "version": "3.7.3"
  }
 },
 "nbformat": 4,
 "nbformat_minor": 2
}
